{
 "cells": [
  {
   "cell_type": "code",
   "execution_count": 2,
   "metadata": {},
   "outputs": [],
   "source": [
    "import gensim\n",
    "from gensim.models.phrases import Phrases, Phraser\n",
    "from gensim.models import Word2Vec\n",
    "import pandas as pd\n",
    "import joblib"
   ]
  },
  {
   "cell_type": "code",
   "execution_count": 3,
   "metadata": {},
   "outputs": [],
   "source": [
    "df=pd.read_csv('data/data_100.csv') #Reading from local csv file\n",
    "sent = [row.split() for row in df['data']] #spliting the file word by word\n",
    "phrases = Phrases(sent, min_count=30, progress_per=10000) #Setting minimum count for content\n",
    "sentences=phrases[sent] #Setting condent into a variable"
   ]
  },
  {
   "cell_type": "code",
   "execution_count": 8,
   "metadata": {},
   "outputs": [],
   "source": [
    "#initializing the model with parameters\n",
    "w2v_model = Word2Vec(min_count=20,\n",
    "window=3,\n",
    "vector_size=300,\n",
    "sample=6e-5,\n",
    "alpha=0.03,\n",
    "min_alpha=0.0007,\n",
    "negative=20,\n",
    "sg=1\n",
    ")"
   ]
  },
  {
   "cell_type": "code",
   "execution_count": 9,
   "metadata": {},
   "outputs": [],
   "source": [
    "#Building Vocabulary\n",
    "w2v_model.build_vocab(sentences)"
   ]
  },
  {
   "cell_type": "code",
   "execution_count": 10,
   "metadata": {},
   "outputs": [],
   "source": [
    "#Saving the built vocabulary locally\n",
    "w2v_model.save(\"data/word2vec.model\")"
   ]
  },
  {
   "cell_type": "code",
   "execution_count": 11,
   "metadata": {},
   "outputs": [
    {
     "data": {
      "text/plain": [
       "(649656, 2906040)"
      ]
     },
     "execution_count": 11,
     "metadata": {},
     "output_type": "execute_result"
    }
   ],
   "source": [
    "#Training the model\n",
    "w2v_model.train(sentences, total_examples = w2v_model.corpus_count, epochs = 30, report_delay = 1,)"
   ]
  },
  {
   "cell_type": "code",
   "execution_count": 12,
   "metadata": {},
   "outputs": [],
   "source": [
    "model = Word2Vec.load(\"data/Word2Vec.model\") #saving the model"
   ]
  },
  {
   "cell_type": "code",
   "execution_count": 15,
   "metadata": {},
   "outputs": [
    {
     "name": "stdout",
     "output_type": "stream",
     "text": [
      "[('cnn', 0.7727816104888916), ('eval_result', 0.7543772459030151), ('first_predicted', 0.7436510324478149), ('methoddict', 0.7404764890670776), ('train_steps', 0.7373372316360474), ('deep_learning', 0.7287150025367737), ('member', 0.7176835536956787), ('model', 0.7095924615859985), ('input_fn', 0.7064283490180969), ('y_test', 0.6939319968223572)]\n"
     ]
    }
   ],
   "source": [
    "print(w2v_model.wv.similar_by_vector('neural_network'))"
   ]
  }
 ],
 "metadata": {
  "kernelspec": {
   "display_name": "venv",
   "language": "python",
   "name": "python3"
  },
  "language_info": {
   "codemirror_mode": {
    "name": "ipython",
    "version": 3
   },
   "file_extension": ".py",
   "mimetype": "text/x-python",
   "name": "python",
   "nbconvert_exporter": "python",
   "pygments_lexer": "ipython3",
   "version": "3.10.7"
  },
  "orig_nbformat": 4
 },
 "nbformat": 4,
 "nbformat_minor": 2
}
