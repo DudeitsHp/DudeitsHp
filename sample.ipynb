{
 "cells": [
  {
   "cell_type": "code",
   "execution_count": 4,
   "metadata": {},
   "outputs": [],
   "source": [
    "import pandas as pd\n",
    "import numpy as np"
   ]
  },
  {
   "cell_type": "code",
   "execution_count": 5,
   "metadata": {},
   "outputs": [],
   "source": [
    "#  Reads skill file\n",
    "df = pd.read_csv('data/updatedtechnicalskills.csv')\n",
    "extracted_words = []"
   ]
  },
  {
   "cell_type": "code",
   "execution_count": 6,
   "metadata": {},
   "outputs": [],
   "source": [
    "for skill in df['skills']:\n",
    "    # Find the position of \"topics/\" and \">\"\n",
    "    start_index = skill.find(\"topics/\") + len(\"topics/\")\n",
    "    end_index = skill.find(\">\")\n",
    "    # Extract the word between \"topics/\" and \">\"\n",
    "    word = skill[start_index:end_index]\n",
    "    extracted_words.append(word)"
   ]
  }
 ],
 "metadata": {
  "kernelspec": {
   "display_name": "venv",
   "language": "python",
   "name": "python3"
  },
  "language_info": {
   "codemirror_mode": {
    "name": "ipython",
    "version": 3
   },
   "file_extension": ".py",
   "mimetype": "text/x-python",
   "name": "python",
   "nbconvert_exporter": "python",
   "pygments_lexer": "ipython3",
   "version": "3.10.7"
  },
  "orig_nbformat": 4
 },
 "nbformat": 4,
 "nbformat_minor": 2
}
